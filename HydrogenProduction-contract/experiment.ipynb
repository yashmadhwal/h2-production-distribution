{
 "cells": [
  {
   "cell_type": "markdown",
   "metadata": {},
   "source": [
    "## Interacting with the deployed Contracts on the Hardhat environment"
   ]
  },
  {
   "cell_type": "code",
   "execution_count": 1,
   "metadata": {},
   "outputs": [],
   "source": [
    "#Run the node.\n",
    "#in new tab run contract\n",
    "#npx hardhat run --network localhost scripts/deploy.js"
   ]
  },
  {
   "cell_type": "code",
   "execution_count": 2,
   "metadata": {},
   "outputs": [],
   "source": [
    "# Importing libraries\n",
    "from web3 import Web3\n",
    "import json"
   ]
  },
  {
   "cell_type": "markdown",
   "metadata": {},
   "source": [
    "#### Connecting to Hardhat environment. <br> <i>Note: Make sure environment is up and running </i>"
   ]
  },
  {
   "cell_type": "code",
   "execution_count": 3,
   "metadata": {},
   "outputs": [],
   "source": [
    "# Started HTTP and WebSocket JSON-RPC server at ...\n",
    "HTTP_Server = 'http://127.0.0.1:8545'"
   ]
  },
  {
   "cell_type": "code",
   "execution_count": 4,
   "metadata": {},
   "outputs": [
    {
     "name": "stdout",
     "output_type": "stream",
     "text": [
      "isConnected: True\n"
     ]
    }
   ],
   "source": [
    "# Checking the web3 connection\n",
    "web3 = Web3(Web3.HTTPProvider(HTTP_Server))\n",
    "print(\"isConnected:\",web3.is_connected())"
   ]
  },
  {
   "cell_type": "markdown",
   "metadata": {},
   "source": [
    "#### Getting the list of accounts\n",
    "\n",
    "| Role   \t| Size \t| index \t| :index \t|\n",
    "|--------\t|------\t|-------\t|--------\t|\n",
    "| Admins \t| 5    \t| 0     \t| 4      \t|\n",
    "| Car    \t| 3000 \t| 5     \t| 3004   \t|\n",
    "| Busses \t| 200  \t| 3005  \t| 3204   \t|\n",
    "| Truck  \t| 45   \t| 3205  \t| 3249   \t|\n",
    "\n",
    "Generated total: 3250 Wallets"
   ]
  },
  {
   "cell_type": "code",
   "execution_count": 5,
   "metadata": {},
   "outputs": [],
   "source": [
    "# Asserting that we have correct number of accounts\n",
    "accounts_list = web3.eth.accounts\n",
    "\n",
    "assert(len(accounts_list) == 3250)"
   ]
  },
  {
   "cell_type": "code",
   "execution_count": 6,
   "metadata": {},
   "outputs": [
    {
     "name": "stdout",
     "output_type": "stream",
     "text": [
      "\n",
      "Contract_Owner: 0xf39Fd6e51aad88F6F4ce6aB8827279cffFb92266\n",
      "electric_Station: 0x70997970C51812dc3A010C7d01b50e0d17dc79C8\n",
      "water_Station: 0x3C44CdDdB6a900fa2b585dd299e03d12FA4293BC\n",
      "hydrogen_Station: 0x90F79bf6EB2c4f870365E785982E1f101E93b906\n",
      "filling_Station: 0x15d34AAf54267DB7D7c367839AAf71A00a2C6A65\n",
      "\n"
     ]
    }
   ],
   "source": [
    "#getting the lists of accounts available, Account[0] will be like an auditor account\n",
    "\n",
    "#accounts_list[0]: Contract_Owner\n",
    "Contract_Owner = accounts_list[0]\n",
    "#accounts_list[1]: electric_Station\n",
    "electric_Station = accounts_list[1]\n",
    "#accounts_list[2]: water_Station\n",
    "water_Station = accounts_list[2]\n",
    "#accounts_list[3]: hydrogen_Station\n",
    "hydrogen_Station = accounts_list[3]\n",
    "#accounts_list[4]: filling_Station\n",
    "filling_Station = accounts_list[4]\n",
    "\n",
    "\n",
    "print(f'''\n",
    "Contract_Owner: {Contract_Owner}\n",
    "electric_Station: {electric_Station}\n",
    "water_Station: {water_Station}\n",
    "hydrogen_Station: {hydrogen_Station}\n",
    "filling_Station: {filling_Station}\n",
    "''')"
   ]
  },
  {
   "cell_type": "code",
   "execution_count": 7,
   "metadata": {},
   "outputs": [],
   "source": [
    "# storing Cars' address in a list\n",
    "car_Addresses = []\n",
    "for i in range(5,3005):\n",
    "    car_Addresses.append(accounts_list[i])\n",
    "\n",
    "assert(len(car_Addresses)==3000)"
   ]
  },
  {
   "cell_type": "code",
   "execution_count": 8,
   "metadata": {},
   "outputs": [],
   "source": [
    "# storing Busses address in a list\n",
    "bus_Addresses = []\n",
    "for i in range(3005,3205):\n",
    "    bus_Addresses.append(accounts_list[i])\n",
    "\n",
    "assert(len(bus_Addresses)==200)"
   ]
  },
  {
   "cell_type": "code",
   "execution_count": 9,
   "metadata": {},
   "outputs": [],
   "source": [
    "# storing Truck address in a list\n",
    "truck_Addresses = []\n",
    "for i in range(3205,3250):\n",
    "    truck_Addresses.append(accounts_list[i])\n",
    "\n",
    "assert(len(truck_Addresses)==45)"
   ]
  },
  {
   "cell_type": "code",
   "execution_count": null,
   "metadata": {},
   "outputs": [],
   "source": []
  },
  {
   "cell_type": "code",
   "execution_count": 10,
   "metadata": {},
   "outputs": [],
   "source": [
    "# creating instance of the the smart contract\n",
    "# Getting ABI\n",
    "with open('artifacts/contracts/HydrogenProductions.sol/SUPPLYHYDROGEN.json') as f:\n",
    "    contract_abi = json.load(f)['abi']"
   ]
  },
  {
   "cell_type": "code",
   "execution_count": 11,
   "metadata": {},
   "outputs": [],
   "source": [
    "#getting Deployed Address... NOTE THIS MIGHT CHANGE, SO MAKE SURE YOU ARE RUNNING CORRECT ADDRESS\n",
    "contract_address = '0x5FbDB2315678afecb367f032d93F642f64180aa3'"
   ]
  },
  {
   "cell_type": "code",
   "execution_count": null,
   "metadata": {},
   "outputs": [],
   "source": []
  },
  {
   "cell_type": "code",
   "execution_count": 12,
   "metadata": {},
   "outputs": [],
   "source": [
    "#Instance of the contract\n",
    "h2p_contract = web3.eth.contract(address=contract_address, abi = contract_abi)"
   ]
  },
  {
   "cell_type": "code",
   "execution_count": null,
   "metadata": {},
   "outputs": [],
   "source": []
  },
  {
   "cell_type": "code",
   "execution_count": 13,
   "metadata": {},
   "outputs": [],
   "source": [
    "#Production Phase"
   ]
  },
  {
   "cell_type": "code",
   "execution_count": 14,
   "metadata": {},
   "outputs": [],
   "source": [
    "indexWATER = h2p_contract.functions.WATER().call();\n",
    "indexRENEWABLES = h2p_contract.functions.RENEWABLES().call();\n",
    "indexHYDROGEN_FUEL = h2p_contract.functions.HYDROGEN_FUEL().call();\n",
    "\n",
    "assert(indexWATER == 0)\n",
    "assert(indexRENEWABLES == 1)\n",
    "assert(indexHYDROGEN_FUEL == 2)"
   ]
  },
  {
   "cell_type": "code",
   "execution_count": 15,
   "metadata": {},
   "outputs": [],
   "source": [
    "# Requirements\n",
    "waterRequired = 24850 * 109106;\n",
    "energyRequired = 24850 * 550000;\n"
   ]
  },
  {
   "cell_type": "code",
   "execution_count": null,
   "metadata": {},
   "outputs": [],
   "source": []
  },
  {
   "cell_type": "code",
   "execution_count": 16,
   "metadata": {},
   "outputs": [],
   "source": [
    "# Creating empty list for gas appending"
   ]
  },
  {
   "cell_type": "code",
   "execution_count": 17,
   "metadata": {},
   "outputs": [],
   "source": [
    "def gas_consumption(**kwargs):    \n",
    "    if kwargs['solo'] == True:\n",
    "        transaction_hash = kwargs['transaction']\n",
    "        receipt = web3.eth.wait_for_transaction_receipt(transaction_hash).gasUsed\n",
    "        return receipt\n",
    "\n",
    "    else:\n",
    "        transaction_hash = kwargs['transaction']\n",
    "        receipt = web3.eth.wait_for_transaction_receipt(transaction_hash).gasUsed\n",
    "        return receipt\n",
    "\n"
   ]
  },
  {
   "cell_type": "code",
   "execution_count": 18,
   "metadata": {},
   "outputs": [],
   "source": [
    "# Getting Contract address\n"
   ]
  },
  {
   "cell_type": "code",
   "execution_count": null,
   "metadata": {},
   "outputs": [],
   "source": []
  },
  {
   "cell_type": "code",
   "execution_count": null,
   "metadata": {},
   "outputs": [],
   "source": []
  },
  {
   "cell_type": "code",
   "execution_count": 19,
   "metadata": {},
   "outputs": [
    {
     "name": "stdout",
     "output_type": "stream",
     "text": [
      "0xabed1fa8aaf3f252c64bd6dcab2133a232fc9be4e2920d8b3248bdf53a45533b\n",
      "Water Authorization 46430\n",
      "0x0f13d7bb558544a097f54fd4e50e7f274f36e393d03a9f476d3ba5c6b78818a1\n",
      "GRID Authorization 46399\n",
      "0xb44692ce01915ce9a9967f9e1a445fd203df0443313d4b2f6c86ec7dc8961035\n",
      "Electrolysis Authorization 46444\n"
     ]
    }
   ],
   "source": [
    "#  Authorising\n",
    "_ = h2p_contract.functions.setWaterProvider(water_Station).transact({'from':Contract_Owner }).hex()\n",
    "print(_)\n",
    "gas_ = gas_consumption(transaction = _, solo = False)\n",
    "print(\"Water Authorization\", gas_)\n",
    "\n",
    "_ = h2p_contract.functions.setEnergyProvider(electric_Station).transact({'from':Contract_Owner }).hex()\n",
    "print(_)\n",
    "gas_ = gas_consumption(transaction = _, solo = False)\n",
    "print(\"GRID Authorization\", gas_)\n",
    "\n",
    "\n",
    "_ = h2p_contract.functions.setFuelProvider(hydrogen_Station).transact({'from':Contract_Owner }).hex()\n",
    "print(_)\n",
    "gas_ = gas_consumption(transaction = _, solo = False)\n",
    "print(\"Electrolysis Authorization\", gas_)"
   ]
  },
  {
   "cell_type": "code",
   "execution_count": 20,
   "metadata": {},
   "outputs": [
    {
     "name": "stdout",
     "output_type": "stream",
     "text": [
      "0x27d4dd8eb673da0c64eb1aff0f91e6204028f50357196931eb38f5a69183bab8\n",
      "gas_water_minting 50196\n"
     ]
    }
   ],
   "source": [
    "# Minting Water and Electricity\n",
    "_ = h2p_contract.functions.mintWater(waterRequired).transact({'from':water_Station }).hex()\n",
    "print(_)\n",
    "gas_water_minting = gas_consumption(transaction = _, solo = False)\n",
    "print('gas_water_minting',gas_water_minting)\n",
    "\n"
   ]
  },
  {
   "cell_type": "code",
   "execution_count": 21,
   "metadata": {},
   "outputs": [
    {
     "name": "stdout",
     "output_type": "stream",
     "text": [
      "0x36677b4b40155275dfc62374b88f91f09f9edf19e77b94523ed8c0ed8b7770d2\n",
      "gas_electricity_minting 50186\n"
     ]
    }
   ],
   "source": [
    "_ = h2p_contract.functions.mintEnergy(energyRequired).transact({'from':electric_Station }).hex()\n",
    "print(_)\n",
    "gas_electricity_minting = gas_consumption(transaction = _, solo = False)\n",
    "print('gas_electricity_minting',gas_electricity_minting)"
   ]
  },
  {
   "cell_type": "code",
   "execution_count": 22,
   "metadata": {},
   "outputs": [
    {
     "name": "stdout",
     "output_type": "stream",
     "text": [
      "0xa410945d5d370ee5faf76d1a38260bcace0b760d1a31c8c2b161e73f84572924\n",
      "gas_water_safeTransferFrom 53714\n"
     ]
    }
   ],
   "source": [
    "#Transfering Resources to H2 Plant: Water\n",
    "_ = h2p_contract.functions.safeTransferFrom(water_Station,hydrogen_Station, indexWATER, waterRequired, '0x0000000000000000000000000000000000000000000000000000000000000000').transact({'from':water_Station })\n",
    "print(_.hex())\n",
    "gas_water_safeTransferFrom = gas_consumption(transaction = _, solo = False)\n",
    "print('gas_water_safeTransferFrom',gas_water_safeTransferFrom)"
   ]
  },
  {
   "cell_type": "code",
   "execution_count": 23,
   "metadata": {},
   "outputs": [
    {
     "name": "stdout",
     "output_type": "stream",
     "text": [
      "0xe6e1a689e602238ebefc6020e30bfaba2e78379fc6e200465118485f4bf76300\n",
      "gas_electricity_safeTransferFrom 53750\n"
     ]
    }
   ],
   "source": [
    "#Transfering Resources to H2 Plant: Electricity\n",
    "_ = h2p_contract.functions.safeTransferFrom(electric_Station,hydrogen_Station, indexRENEWABLES, energyRequired, '0x0000000000000000000000000000000000000000000000000000000000000000').transact({'from':electric_Station })\n",
    "print(_.hex())\n",
    "gas_electricity_safeTransferFrom = gas_consumption(transaction = _, solo = False)\n",
    "print('gas_electricity_safeTransferFrom',gas_electricity_safeTransferFrom)"
   ]
  },
  {
   "cell_type": "code",
   "execution_count": 24,
   "metadata": {},
   "outputs": [
    {
     "name": "stdout",
     "output_type": "stream",
     "text": [
      "0xe074ffe09e353adf5b68d801568683dbce3b51ca24dc9f19ef05033e9ac19168\n",
      "gas_hydrogen_mint 72323\n"
     ]
    }
   ],
   "source": [
    "# minting and buring.\n",
    "_ = h2p_contract.functions.mintHydrogen().transact({'from':hydrogen_Station })\n",
    "print(_.hex())\n",
    "gas_hydrogen_mint = gas_consumption(transaction = _, solo = False)\n",
    "print('gas_hydrogen_mint',gas_hydrogen_mint)"
   ]
  },
  {
   "cell_type": "code",
   "execution_count": 25,
   "metadata": {},
   "outputs": [
    {
     "name": "stdout",
     "output_type": "stream",
     "text": [
      "0x20a9d8a8448c1f6e8110d86786fc32ac87ce19538c583628f21161c938c6da02\n",
      "gas_hydrogen_safeTransferFrom 53738\n"
     ]
    }
   ],
   "source": [
    "# Transfering to Filling Station\n",
    "# Getting Balance of H2 at hydrogen_Station\n",
    "\n",
    "h2_balance = h2p_contract.functions.balanceOf(hydrogen_Station,indexHYDROGEN_FUEL).call()\n",
    "\n",
    "_ = h2p_contract.functions.safeTransferFrom(hydrogen_Station,filling_Station, indexHYDROGEN_FUEL, h2_balance, '0x0000000000000000000000000000000000000000000000000000000000000000').transact({'from':hydrogen_Station })\n",
    "\n",
    "print(_.hex())\n",
    "gas_hydrogen_safeTransferFrom = gas_consumption(transaction = _, solo = False)\n",
    "print('gas_hydrogen_safeTransferFrom',gas_hydrogen_safeTransferFrom)"
   ]
  },
  {
   "cell_type": "code",
   "execution_count": null,
   "metadata": {},
   "outputs": [],
   "source": []
  },
  {
   "cell_type": "code",
   "execution_count": null,
   "metadata": {},
   "outputs": [],
   "source": []
  },
  {
   "cell_type": "markdown",
   "metadata": {},
   "source": [
    "#### Now filling station has required amount of H<sub>2</sub>, lets fill our vehicles."
   ]
  },
  {
   "cell_type": "code",
   "execution_count": null,
   "metadata": {},
   "outputs": [],
   "source": []
  },
  {
   "cell_type": "code",
   "execution_count": 26,
   "metadata": {},
   "outputs": [],
   "source": [
    "h2_balance_filling = h2p_contract.functions.balanceOf(filling_Station,indexHYDROGEN_FUEL).call()\n",
    "assert(h2_balance_filling == 248500000)"
   ]
  },
  {
   "cell_type": "code",
   "execution_count": 27,
   "metadata": {},
   "outputs": [],
   "source": [
    "#Filling Cars\n",
    "h2_car_requirement = 60000 # 6.0000\n",
    "h2_car_gas_filling = []\n",
    "\n",
    "for i in car_Addresses:\n",
    "    _ = h2p_contract.functions.safeTransferFrom(filling_Station,i,indexHYDROGEN_FUEL, h2_car_requirement, '0x0000000000000000000000000000000000000000000000000000000000000000').transact({'from':filling_Station })\n",
    "    h2_car_gas_filling.append(gas_consumption(transaction = _, solo = False))\n",
    "    "
   ]
  },
  {
   "cell_type": "code",
   "execution_count": 28,
   "metadata": {},
   "outputs": [],
   "source": [
    "#Filling Busses\n",
    "h2_bus_requirement = 230000 # 23.0000\n",
    "h2_bus_gas_filling = []\n",
    "\n",
    "for i in bus_Addresses:\n",
    "    _ = h2p_contract.functions.safeTransferFrom(filling_Station,i,indexHYDROGEN_FUEL, h2_bus_requirement, '0x0000000000000000000000000000000000000000000000000000000000000000').transact({'from':filling_Station })\n",
    "    h2_bus_gas_filling.append(gas_consumption(transaction = _, solo = False))"
   ]
  },
  {
   "cell_type": "code",
   "execution_count": 29,
   "metadata": {},
   "outputs": [],
   "source": [
    "#Filling Busses\n",
    "h2_truck_requirement = 500000 # 50.0000\n",
    "h2_truck_gas_filling = []\n",
    "\n",
    "for i in truck_Addresses:\n",
    "    _ = h2p_contract.functions.safeTransferFrom(filling_Station,i,indexHYDROGEN_FUEL, h2_truck_requirement, '0x0000000000000000000000000000000000000000000000000000000000000000').transact({'from':filling_Station })\n",
    "    h2_truck_gas_filling.append(gas_consumption(transaction = _, solo = False))"
   ]
  },
  {
   "cell_type": "code",
   "execution_count": 30,
   "metadata": {},
   "outputs": [],
   "source": [
    "h2_balance_filling = h2p_contract.functions.balanceOf(filling_Station,indexHYDROGEN_FUEL).call()\n",
    "\n",
    "assert(h2_balance_filling == 0)"
   ]
  },
  {
   "cell_type": "code",
   "execution_count": 31,
   "metadata": {},
   "outputs": [],
   "source": [
    "#h2_car_gas_filling\n"
   ]
  },
  {
   "cell_type": "code",
   "execution_count": null,
   "metadata": {},
   "outputs": [],
   "source": []
  },
  {
   "cell_type": "code",
   "execution_count": 32,
   "metadata": {},
   "outputs": [],
   "source": [
    "# h2_bus_gas_filling"
   ]
  },
  {
   "cell_type": "code",
   "execution_count": 33,
   "metadata": {},
   "outputs": [],
   "source": [
    "# h2_truck_gas_filling"
   ]
  },
  {
   "cell_type": "code",
   "execution_count": 34,
   "metadata": {},
   "outputs": [
    {
     "name": "stdout",
     "output_type": "stream",
     "text": [
      "avg_car 58513.136\n"
     ]
    }
   ],
   "source": [
    "avg_car = sum(h2_car_gas_filling)/len(h2_car_gas_filling)\n",
    "print('avg_car',avg_car)"
   ]
  },
  {
   "cell_type": "code",
   "execution_count": 35,
   "metadata": {},
   "outputs": [
    {
     "name": "stdout",
     "output_type": "stream",
     "text": [
      "avg_bus 58524.92\n"
     ]
    }
   ],
   "source": [
    "avg_bus = sum(h2_bus_gas_filling)/len(h2_bus_gas_filling)\n",
    "print('avg_bus',avg_bus)"
   ]
  },
  {
   "cell_type": "code",
   "execution_count": 36,
   "metadata": {},
   "outputs": [
    {
     "name": "stdout",
     "output_type": "stream",
     "text": [
      "avg_truck 58417.73333333333\n"
     ]
    }
   ],
   "source": [
    "avg_truck = sum(h2_truck_gas_filling)/len(h2_truck_gas_filling)\n",
    "print('avg_truck',avg_truck)"
   ]
  },
  {
   "cell_type": "code",
   "execution_count": null,
   "metadata": {},
   "outputs": [],
   "source": [
    " "
   ]
  },
  {
   "cell_type": "markdown",
   "metadata": {},
   "source": [
    "# Computing Total gas"
   ]
  },
  {
   "cell_type": "code",
   "execution_count": null,
   "metadata": {},
   "outputs": [],
   "source": []
  },
  {
   "cell_type": "code",
   "execution_count": 37,
   "metadata": {},
   "outputs": [],
   "source": [
    "import math"
   ]
  },
  {
   "cell_type": "code",
   "execution_count": 38,
   "metadata": {},
   "outputs": [
    {
     "name": "stdout",
     "output_type": "stream",
     "text": [
      "contract_gas_used 3658896\n"
     ]
    }
   ],
   "source": [
    "tx_contract_deployment = web3.eth.get_block(1)['transactions'][0].hex()\n",
    "\n",
    "deployment_tx_info = web3.eth.wait_for_transaction_receipt(tx_contract_deployment)\n",
    "contract_gas_used = deployment_tx_info['gasUsed']\n",
    "print('contract_gas_used',contract_gas_used)"
   ]
  },
  {
   "cell_type": "code",
   "execution_count": 39,
   "metadata": {},
   "outputs": [],
   "source": [
    "# Total Gas spent\n",
    "Total_gas_spent_filling = (contract_gas_used \n",
    "                           + gas_water_minting\n",
    "                           + gas_electricity_minting\n",
    "                           + gas_water_safeTransferFrom\n",
    "                           + gas_electricity_safeTransferFrom\n",
    "                           + gas_hydrogen_mint\n",
    "                           + gas_hydrogen_safeTransferFrom\n",
    "                           + sum(h2_car_gas_filling) \n",
    "                           + sum(h2_bus_gas_filling) \n",
    "                           + sum(h2_truck_gas_filling))"
   ]
  },
  {
   "cell_type": "code",
   "execution_count": 40,
   "metadata": {},
   "outputs": [
    {
     "name": "stdout",
     "output_type": "stream",
     "text": [
      "Total_gas_spent_filling 193865993\n"
     ]
    }
   ],
   "source": [
    "print('Total_gas_spent_filling', Total_gas_spent_filling)"
   ]
  },
  {
   "cell_type": "markdown",
   "metadata": {},
   "source": [
    "#### Each block has a target size of 15 million gas but the size of blocks will increase or decrease in accordance with network demands, up until the block limit of 30 million gas (2x target block size)"
   ]
  },
  {
   "cell_type": "markdown",
   "metadata": {},
   "source": [
    "#### Initially they started with 5,000 but current average is 15,000,000. source: https://blog.mycrypto.com/the-history-of-ethereums-block-size-block-gas-limit\n"
   ]
  },
  {
   "cell_type": "code",
   "execution_count": 41,
   "metadata": {},
   "outputs": [],
   "source": [
    "eth_block_gas_limit_avg = 15000000\n",
    "eth_block_gas_limit_high = 2 * eth_block_gas_limit_avg"
   ]
  },
  {
   "cell_type": "code",
   "execution_count": 42,
   "metadata": {},
   "outputs": [
    {
     "name": "stdout",
     "output_type": "stream",
     "text": [
      "Number of blocks required (Avg Network) 13 Blocks\n",
      "Number of blocks required (High Network) 7 Blocks\n"
     ]
    }
   ],
   "source": [
    "#calculating for average network\n",
    "Number_of_blocks_required_ceil_avg = Total_gas_spent_filling/eth_block_gas_limit_avg\n",
    "print('Number of blocks required (Avg Network)',math.ceil(Number_of_blocks_required_ceil_avg),'Blocks')\n",
    "\n",
    "#calculating for high network\n",
    "Number_of_blocks_required_ceil_high = Total_gas_spent_filling/eth_block_gas_limit_high\n",
    "print('Number of blocks required (High Network)',math.ceil(Number_of_blocks_required_ceil_high),'Blocks')"
   ]
  },
  {
   "cell_type": "code",
   "execution_count": 67,
   "metadata": {},
   "outputs": [
    {
     "name": "stdout",
     "output_type": "stream",
     "text": [
      "Number of blocks required (Avg Network) 13 Blocks\n",
      "Number of blocks required (High Network) 7 Blocks\n",
      "190207097\n"
     ]
    },
    {
     "data": {
      "text/plain": [
       "225000000"
      ]
     },
     "execution_count": 67,
     "metadata": {},
     "output_type": "execute_result"
    }
   ],
   "source": [
    "#calculating for average network (Daily )\n",
    "Total_gas_spent_filling_without_contract_deployment = Total_gas_spent_filling - contract_gas_used\n",
    "Number_of_blocks_required_ceil_avg = Total_gas_spent_filling_without_contract_deployment/eth_block_gas_limit_avg\n",
    "print('Number of blocks required (Avg Network)',math.ceil(Number_of_blocks_required_ceil_avg),'Blocks')\n",
    "\n",
    "#calculating for high network\n",
    "Number_of_blocks_required_ceil_high = Total_gas_spent_filling_without_contract_deployment/eth_block_gas_limit_high\n",
    "print('Number of blocks required (High Network)',math.ceil(Number_of_blocks_required_ceil_high),'Blocks')\n",
    "print(Total_gas_spent_filling_without_contract_deployment)\n"
   ]
  },
  {
   "cell_type": "code",
   "execution_count": 43,
   "metadata": {},
   "outputs": [
    {
     "name": "stdout",
     "output_type": "stream",
     "text": [
      "time_taken ~ 156 Seconds\n",
      "time_taken ~ 84 Seconds\n"
     ]
    }
   ],
   "source": [
    "# Todo: Time calculation\n",
    "Total_Time_low = math.ceil(Number_of_blocks_required_ceil_avg) * 12\n",
    "print('time_taken ~',Total_Time_low,'Seconds')\n",
    "\n",
    "Total_Time_high = math.ceil(Number_of_blocks_required_ceil_high) * 12\n",
    "print('time_taken ~',Total_Time_high,'Seconds')\n",
    "\n"
   ]
  },
  {
   "cell_type": "code",
   "execution_count": 44,
   "metadata": {},
   "outputs": [
    {
     "name": "stdout",
     "output_type": "stream",
     "text": [
      "average_car_gas 58513.136\n",
      "average_bus_gas 58524.92\n",
      "average_truck_gas 58417.73333333333\n"
     ]
    }
   ],
   "source": [
    "#Total gas\n",
    "average_car_gas = sum(h2_car_gas_filling)/len(h2_car_gas_filling)\n",
    "print('average_car_gas',average_car_gas)\n",
    "\n",
    "average_bus_gas = sum(h2_bus_gas_filling)/len(h2_bus_gas_filling)\n",
    "print('average_bus_gas',average_bus_gas)\n",
    "\n",
    "average_truck_gas = sum(h2_truck_gas_filling)/len(h2_truck_gas_filling)\n",
    "print('average_truck_gas',average_truck_gas)"
   ]
  },
  {
   "cell_type": "code",
   "execution_count": null,
   "metadata": {},
   "outputs": [],
   "source": []
  },
  {
   "cell_type": "code",
   "execution_count": 45,
   "metadata": {},
   "outputs": [],
   "source": [
    "contract_deployment_number = 1\n",
    "# Transfer Action\n",
    "water_mint = 1\n",
    "electricity_mint = 1\n",
    "water_transfer = 1\n",
    "electricity_transfer = 1\n",
    "hydrogen_mint = 1\n",
    "hydrogen_transfer = 1\n",
    "\n",
    "\n",
    "# Equipments\n",
    "number_cars = 3000\n",
    "number_bus = 200\n",
    "number_truck = 45"
   ]
  },
  {
   "cell_type": "code",
   "execution_count": 46,
   "metadata": {},
   "outputs": [
    {
     "name": "stdout",
     "output_type": "stream",
     "text": [
      "total_gas_spent 193865993.0\n"
     ]
    }
   ],
   "source": [
    "\n",
    "total_gas_spent = (contract_gas_used * contract_deployment_number \n",
    "                   + gas_water_minting * water_mint\n",
    "                   + gas_electricity_minting * electricity_mint\n",
    "                   + gas_water_safeTransferFrom * water_transfer\n",
    "                   + gas_electricity_safeTransferFrom * electricity_transfer\n",
    "                   + gas_hydrogen_mint * hydrogen_mint\n",
    "                   + gas_hydrogen_safeTransferFrom * hydrogen_transfer\n",
    "                   + average_car_gas * number_cars\n",
    "                   + average_bus_gas * number_bus\n",
    "                   + average_truck_gas * number_truck)\n",
    "\n",
    "print('total_gas_spent',total_gas_spent)"
   ]
  },
  {
   "cell_type": "markdown",
   "metadata": {},
   "source": [
    "### Re-running the transactions and ploting the information"
   ]
  },
  {
   "cell_type": "code",
   "execution_count": 47,
   "metadata": {},
   "outputs": [
    {
     "name": "stdout",
     "output_type": "stream",
     "text": [
      "0xc7ad8560440bc7f5bddfdf962afc30a8e79c9c42b4a6401e1d14e8418540c549\n",
      "gas_water_minting_re 50196\n",
      "0x8a1836e52eefbb78ad03e9f6f1470b8b571eef34e0b30b7879b43404b1b626b1\n",
      "gas_electricity_minting_re 50186\n"
     ]
    }
   ],
   "source": [
    "# Minting Water and Electricity\n",
    "_ = h2p_contract.functions.mintWater(waterRequired).transact({'from':water_Station }).hex()\n",
    "print(_)\n",
    "gas_water_minting_re = gas_consumption(transaction = _, solo = False)\n",
    "print('gas_water_minting_re',gas_water_minting_re)\n",
    "\n",
    "_ = h2p_contract.functions.mintEnergy(energyRequired).transact({'from':electric_Station }).hex()\n",
    "print(_)\n",
    "gas_electricity_minting_re = gas_consumption(transaction = _, solo = False)\n",
    "print('gas_electricity_minting_re',gas_electricity_minting_re)"
   ]
  },
  {
   "cell_type": "code",
   "execution_count": 48,
   "metadata": {},
   "outputs": [
    {
     "name": "stdout",
     "output_type": "stream",
     "text": [
      "0x508d4eb74eadb37a1b825fd0a2998d92080cb4b31cc24774fa1977c68858b75a\n",
      "gas_water_safeTransferFrom_re 53714\n"
     ]
    }
   ],
   "source": [
    "#Transfering Resources to H2 Plant: Water\n",
    "_ = h2p_contract.functions.safeTransferFrom(water_Station,hydrogen_Station, indexWATER, waterRequired, '0x0000000000000000000000000000000000000000000000000000000000000000').transact({'from':water_Station })\n",
    "print(_.hex())\n",
    "gas_water_safeTransferFrom_re = gas_consumption(transaction = _, solo = False)\n",
    "print('gas_water_safeTransferFrom_re',gas_water_safeTransferFrom_re)"
   ]
  },
  {
   "cell_type": "code",
   "execution_count": 49,
   "metadata": {},
   "outputs": [
    {
     "name": "stdout",
     "output_type": "stream",
     "text": [
      "0x6e422c38ff1e3ad82e5e957081e52847e3e0b7a0e44ad00c9307d6235915aca9\n",
      "gas_electricity_safeTransferFrom_re 53750\n"
     ]
    }
   ],
   "source": [
    "#Transfering Resources to H2 Plant: Electricity\n",
    "_ = h2p_contract.functions.safeTransferFrom(electric_Station,hydrogen_Station, indexRENEWABLES, energyRequired, '0x0000000000000000000000000000000000000000000000000000000000000000').transact({'from':electric_Station })\n",
    "print(_.hex())\n",
    "gas_electricity_safeTransferFrom_re = gas_consumption(transaction = _, solo = False)\n",
    "print('gas_electricity_safeTransferFrom_re',gas_electricity_safeTransferFrom_re)"
   ]
  },
  {
   "cell_type": "code",
   "execution_count": 50,
   "metadata": {},
   "outputs": [
    {
     "name": "stdout",
     "output_type": "stream",
     "text": [
      "0xa78ad730e798aa4d1ef40b452b74548faf7747ce0e23dd969bc820ef73b01c59\n",
      "gas_hydrogen_mint_re 72323\n"
     ]
    }
   ],
   "source": [
    "# minting and buring.\n",
    "_ = h2p_contract.functions.mintHydrogen().transact({'from':hydrogen_Station })\n",
    "print(_.hex())\n",
    "gas_hydrogen_mint_re = gas_consumption(transaction = _, solo = False)\n",
    "print('gas_hydrogen_mint_re',gas_hydrogen_mint_re)"
   ]
  },
  {
   "cell_type": "code",
   "execution_count": 51,
   "metadata": {},
   "outputs": [
    {
     "name": "stdout",
     "output_type": "stream",
     "text": [
      "0xbfedc4023a899ce5fbd2b63e12ef051372992098f6886c756b8991288ff2a387\n",
      "gas_hydrogen_safeTransferFrom_re 53738\n"
     ]
    }
   ],
   "source": [
    "# Transfering to Filling Station\n",
    "# Getting Balance of H2 at hydrogen_Station\n",
    "\n",
    "h2_balance = h2p_contract.functions.balanceOf(hydrogen_Station,indexHYDROGEN_FUEL).call()\n",
    "\n",
    "_ = h2p_contract.functions.safeTransferFrom(hydrogen_Station,filling_Station, indexHYDROGEN_FUEL, h2_balance, '0x0000000000000000000000000000000000000000000000000000000000000000').transact({'from':hydrogen_Station })\n",
    "\n",
    "print(_.hex())\n",
    "gas_hydrogen_safeTransferFrom_re = gas_consumption(transaction = _, solo = False)\n",
    "print('gas_hydrogen_safeTransferFrom_re',gas_hydrogen_safeTransferFrom_re)"
   ]
  },
  {
   "cell_type": "code",
   "execution_count": 52,
   "metadata": {},
   "outputs": [],
   "source": [
    "h2_balance_filling = h2p_contract.functions.balanceOf(filling_Station,indexHYDROGEN_FUEL).call()\n",
    "assert(h2_balance_filling == 248500000)"
   ]
  },
  {
   "cell_type": "code",
   "execution_count": 53,
   "metadata": {},
   "outputs": [],
   "source": [
    "#Filling Cars\n",
    "h2_car_requirement = 60000 # 6.0000\n",
    "h2_car_gas_refilling = []\n",
    "\n",
    "for i in car_Addresses:\n",
    "    _ = h2p_contract.functions.safeTransferFrom(filling_Station,i,indexHYDROGEN_FUEL, h2_car_requirement, '0x0000000000000000000000000000000000000000000000000000000000000000').transact({'from':filling_Station })\n",
    "    h2_car_gas_refilling.append(gas_consumption(transaction = _, solo = False))\n",
    "    "
   ]
  },
  {
   "cell_type": "code",
   "execution_count": 54,
   "metadata": {},
   "outputs": [],
   "source": [
    "#Filling Busses\n",
    "h2_bus_requirement = 230000 # 23.0000\n",
    "h2_bus_gas_refilling = []\n",
    "\n",
    "for i in bus_Addresses:\n",
    "    _ = h2p_contract.functions.safeTransferFrom(filling_Station,i,indexHYDROGEN_FUEL, h2_bus_requirement, '0x0000000000000000000000000000000000000000000000000000000000000000').transact({'from':filling_Station })\n",
    "    h2_bus_gas_refilling.append(gas_consumption(transaction = _, solo = False))"
   ]
  },
  {
   "cell_type": "code",
   "execution_count": 55,
   "metadata": {},
   "outputs": [],
   "source": [
    "#Filling Busses\n",
    "h2_truck_requirement = 500000 # 50.0000\n",
    "h2_truck_gas_refilling = []\n",
    "\n",
    "for i in truck_Addresses:\n",
    "    _ = h2p_contract.functions.safeTransferFrom(filling_Station,i,indexHYDROGEN_FUEL, h2_truck_requirement, '0x0000000000000000000000000000000000000000000000000000000000000000').transact({'from':filling_Station })\n",
    "    h2_truck_gas_refilling.append(gas_consumption(transaction = _, solo = False))"
   ]
  },
  {
   "cell_type": "code",
   "execution_count": 56,
   "metadata": {},
   "outputs": [],
   "source": [
    "h2_balance_filling = h2p_contract.functions.balanceOf(filling_Station,indexHYDROGEN_FUEL).call()\n",
    "\n",
    "assert(h2_balance_filling == 0)"
   ]
  },
  {
   "cell_type": "code",
   "execution_count": 57,
   "metadata": {},
   "outputs": [
    {
     "name": "stdout",
     "output_type": "stream",
     "text": [
      "avg_h2_car_gas_refilling 41413.136\n"
     ]
    }
   ],
   "source": [
    "avg_h2_car_gas_refilling = sum(h2_car_gas_refilling)/len(h2_car_gas_refilling)\n",
    "print('avg_h2_car_gas_refilling',avg_h2_car_gas_refilling)"
   ]
  },
  {
   "cell_type": "code",
   "execution_count": 58,
   "metadata": {},
   "outputs": [
    {
     "name": "stdout",
     "output_type": "stream",
     "text": [
      "avg_h2_bus_gas_refilling 41424.92\n"
     ]
    }
   ],
   "source": [
    "avg_h2_bus_gas_refilling = sum(h2_bus_gas_refilling)/len(h2_bus_gas_refilling)\n",
    "print('avg_h2_bus_gas_refilling',avg_h2_bus_gas_refilling)"
   ]
  },
  {
   "cell_type": "code",
   "execution_count": 59,
   "metadata": {},
   "outputs": [
    {
     "name": "stdout",
     "output_type": "stream",
     "text": [
      "avg_h2_truck_gas_refilling 41317.73333333333\n"
     ]
    }
   ],
   "source": [
    "avg_h2_truck_gas_refilling = sum(h2_truck_gas_refilling)/len(h2_truck_gas_refilling)\n",
    "print('avg_h2_truck_gas_refilling',avg_h2_truck_gas_refilling)"
   ]
  },
  {
   "cell_type": "code",
   "execution_count": null,
   "metadata": {},
   "outputs": [],
   "source": []
  },
  {
   "cell_type": "code",
   "execution_count": 60,
   "metadata": {},
   "outputs": [
    {
     "name": "stdout",
     "output_type": "stream",
     "text": [
      "total_gas_spent_re 138376493.0\n"
     ]
    }
   ],
   "source": [
    "#Yury, should there be contract_gas_used * contract_deployment_number be there or not?\n",
    "\n",
    "total_gas_spent_re = (contract_gas_used * contract_deployment_number \n",
    "                   + gas_water_minting_re * water_mint\n",
    "                   + gas_electricity_minting_re * electricity_mint\n",
    "                   + gas_water_safeTransferFrom_re * water_transfer\n",
    "                   + gas_electricity_safeTransferFrom_re * electricity_transfer\n",
    "                   + gas_hydrogen_mint_re * hydrogen_mint\n",
    "                   + gas_hydrogen_safeTransferFrom_re * hydrogen_transfer\n",
    "                   + avg_h2_car_gas_refilling * number_cars\n",
    "                   + avg_h2_bus_gas_refilling * number_bus\n",
    "                   + avg_h2_truck_gas_refilling * number_truck)\n",
    "\n",
    "print('total_gas_spent_re',total_gas_spent_re)"
   ]
  },
  {
   "cell_type": "code",
   "execution_count": null,
   "metadata": {},
   "outputs": [],
   "source": []
  },
  {
   "cell_type": "code",
   "execution_count": null,
   "metadata": {},
   "outputs": [],
   "source": []
  },
  {
   "cell_type": "code",
   "execution_count": null,
   "metadata": {},
   "outputs": [],
   "source": []
  },
  {
   "cell_type": "code",
   "execution_count": 61,
   "metadata": {},
   "outputs": [
    {
     "data": {
      "text/plain": [
       "Text(0, 0.5, '$p$')"
      ]
     },
     "execution_count": 61,
     "metadata": {},
     "output_type": "execute_result"
    },
    {
     "data": {
      "image/png": "[encoded data removed]",
      "text/plain": [
       "<Figure size 640x480 with 1 Axes>"
      ]
     },
     "metadata": {},
     "output_type": "display_data"
    }
   ],
   "source": [
    "import matplotlib.pyplot as plt\n",
    "import numpy as np\n",
    "\n",
    "# create some randomly ddistributed data:\n",
    "# data = np.random.randn(10000)\n",
    "data = h2_car_gas_refilling\n",
    "\n",
    "# sort the data:\n",
    "data_sorted = np.sort(data)\n",
    "\n",
    "# calculate the proportional values of samples\n",
    "p = 1. * np.arange(len(data)) / (len(data) - 1)\n",
    "\n",
    "# plot the sorted data:\n",
    "fig = plt.figure()\n",
    "\n",
    "plt.plot(data_sorted, p)\n",
    "plt.xlabel('$x$')\n",
    "plt.ylabel('$p$')"
   ]
  },
  {
   "cell_type": "code",
   "execution_count": 62,
   "metadata": {},
   "outputs": [
    {
     "data": {
      "text/plain": [
       "Text(0, 0.5, '$p$')"
      ]
     },
     "execution_count": 62,
     "metadata": {},
     "output_type": "execute_result"
    },
    {
     "data": {
      "image/png": "[encoded data removed]",
      "text/plain": [
       "<Figure size 640x480 with 1 Axes>"
      ]
     },
     "metadata": {},
     "output_type": "display_data"
    }
   ],
   "source": [
    "import matplotlib.pyplot as plt\n",
    "import numpy as np\n",
    "\n",
    "# create some randomly ddistributed data:\n",
    "# data = np.random.randn(10000)\n",
    "data = h2_bus_gas_refilling\n",
    "\n",
    "# sort the data:\n",
    "data_sorted = np.sort(data)\n",
    "\n",
    "# calculate the proportional values of samples\n",
    "p = 1. * np.arange(len(data)) / (len(data) - 1)\n",
    "\n",
    "# plot the sorted data:\n",
    "fig = plt.figure()\n",
    "\n",
    "plt.plot(data_sorted, p)\n",
    "plt.xlabel('$x$')\n",
    "plt.ylabel('$p$')"
   ]
  },
  {
   "cell_type": "code",
   "execution_count": 63,
   "metadata": {},
   "outputs": [
    {
     "data": {
      "text/plain": [
       "Text(0, 0.5, '$p$')"
      ]
     },
     "execution_count": 63,
     "metadata": {},
     "output_type": "execute_result"
    },
    {
     "data": {
      "image/png": "[encoded data removed]",
      "text/plain": [
       "<Figure size 640x480 with 1 Axes>"
      ]
     },
     "metadata": {},
     "output_type": "display_data"
    }
   ],
   "source": [
    "import matplotlib.pyplot as plt\n",
    "import numpy as np\n",
    "\n",
    "# create some randomly ddistributed data:\n",
    "# data = np.random.randn(10000)\n",
    "data = h2_truck_gas_refilling\n",
    "\n",
    "# sort the data:\n",
    "data_sorted = np.sort(data)\n",
    "\n",
    "# calculate the proportional values of samples\n",
    "p = 1. * np.arange(len(data)) / (len(data) - 1)\n",
    "\n",
    "# plot the sorted data:\n",
    "fig = plt.figure()\n",
    "\n",
    "plt.plot(data_sorted, p)\n",
    "plt.xlabel('$x$')\n",
    "plt.ylabel('$p$')"
   ]
  },
  {
   "cell_type": "code",
   "execution_count": null,
   "metadata": {},
   "outputs": [],
   "source": []
  }
 ],
 "metadata": {
  "kernelspec": {
   "display_name": "Python 3 (ipykernel)",
   "language": "python",
   "name": "python3"
  },
  "language_info": {
   "codemirror_mode": {
    "name": "ipython",
    "version": 3
   },
   "file_extension": ".py",
   "mimetype": "text/x-python",
   "name": "python",
   "nbconvert_exporter": "python",
   "pygments_lexer": "ipython3",
   "version": "3.10.9"
  }
 },
 "nbformat": 4,
 "nbformat_minor": 4
}
